{
 "cells": [
  {
   "cell_type": "code",
   "execution_count": 1,
   "id": "aa0a1c4e",
   "metadata": {
    "execution": {
     "iopub.execute_input": "2023-08-13T00:53:08.581467Z",
     "iopub.status.busy": "2023-08-13T00:53:08.581467Z",
     "iopub.status.idle": "2023-08-13T00:53:11.137278Z",
     "shell.execute_reply": "2023-08-13T00:53:11.137278Z"
    }
   },
   "outputs": [
    {
     "name": "stdout",
     "output_type": "stream",
     "text": [
      "Requirement already satisfied: PyPDF2 in d:\\code\\lib\\site-packages (3.0.1)\n",
      "Requirement already satisfied: typing_extensions>=3.10.0.0 in d:\\code\\lib\\site-packages (from PyPDF2) (3.10.0.2)\n",
      "Note: you may need to restart the kernel to use updated packages.\n"
     ]
    }
   ],
   "source": [
    "pip install PyPDF2"
   ]
  },
  {
   "cell_type": "code",
   "execution_count": 2,
   "id": "334b3c98",
   "metadata": {
    "execution": {
     "iopub.execute_input": "2023-08-13T00:53:11.141362Z",
     "iopub.status.busy": "2023-08-13T00:53:11.141362Z",
     "iopub.status.idle": "2023-08-13T00:53:12.081405Z",
     "shell.execute_reply": "2023-08-13T00:53:12.081405Z"
    }
   },
   "outputs": [
    {
     "name": "stdout",
     "output_type": "stream",
     "text": [
      "found employees in page 2\n",
      "found employees in page 13\n",
      "Extracted pages with keyword saved as output_with_keywordc9531f03-eb0b-4dcc-896e-3e00425bf8ac.pdf\n"
     ]
    }
   ],
   "source": [
    "from PyPDF2 import PdfReader, PdfWriter\n",
    "import uuid\n",
    "\n",
    "keyword = \"employees\"\n",
    "reader = PdfReader(\"AtimiSoftware-Coop-offer-letter.pdf\")\n",
    "number_of_pages = len(reader.pages)\n",
    "pages_with_keyword = []\n",
    "for page_number in range(number_of_pages):\n",
    "    current_page = reader.pages[page_number]\n",
    "    if keyword in current_page.extract_text():\n",
    "        print(\"found \"+ keyword+ \" in page \"+ str(page_number))\n",
    "        pages_with_keyword.append(current_page)\n",
    "\n",
    "\n",
    "output_pdf = PdfWriter()\n",
    "for page in pages_with_keyword:\n",
    "    output_pdf.add_page(page)\n",
    "\n",
    "output_path = \"output_with_keyword\" + str(uuid.uuid4())+\".pdf\"\n",
    "with open(output_path, \"wb\") as output_file:\n",
    "    output_pdf.write(output_file)\n",
    "\n",
    "print(\"Extracted pages with keyword saved as\", output_path)"
   ]
  },
  {
   "cell_type": "code",
   "execution_count": null,
   "id": "ca564d38",
   "metadata": {},
   "outputs": [],
   "source": []
  }
 ],
 "metadata": {
  "kernelspec": {
   "display_name": "Python 3 (ipykernel)",
   "language": "python",
   "name": "python3"
  },
  "language_info": {
   "codemirror_mode": {
    "name": "ipython",
    "version": 3
   },
   "file_extension": ".py",
   "mimetype": "text/x-python",
   "name": "python",
   "nbconvert_exporter": "python",
   "pygments_lexer": "ipython3",
   "version": "3.7.11"
  }
 },
 "nbformat": 4,
 "nbformat_minor": 5
}
