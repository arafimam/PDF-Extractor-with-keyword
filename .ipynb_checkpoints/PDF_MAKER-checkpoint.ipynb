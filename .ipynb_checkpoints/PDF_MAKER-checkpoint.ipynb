{
 "cells": [
  {
   "cell_type": "code",
   "execution_count": 2,
   "id": "aa0a1c4e",
   "metadata": {},
   "outputs": [
    {
     "name": "stdout",
     "output_type": "stream",
     "text": [
      "Requirement already satisfied: PyPDF2 in d:\\code\\lib\\site-packages (3.0.1)\n",
      "Requirement already satisfied: typing_extensions>=3.10.0.0 in d:\\code\\lib\\site-packages (from PyPDF2) (3.10.0.2)\n",
      "Note: you may need to restart the kernel to use updated packages.\n"
     ]
    }
   ],
   "source": [
    "pip install PyPDF2"
   ]
  },
  {
   "cell_type": "code",
   "execution_count": 33,
   "id": "d298bb07",
   "metadata": {},
   "outputs": [
    {
     "name": "stdout",
     "output_type": "stream",
     "text": [
      "Enter the keyword to search: Imam\n",
      "Enter the PDF file name: AtimiSoftware-Coop-offer-letter\n",
      "Could not read the file name entered. Make sure to add the file type. For example: XYZ.pdf\n"
     ]
    }
   ],
   "source": [
    "from PyPDF2 import PdfReader, PdfWriter\n",
    "import uuid\n",
    "\n",
    "keyword = input(\"Enter the keyword to search: \")\n",
    "pdf_file_name = input(\"Enter the PDF file name: \")\n",
    "try:\n",
    "    reader = PdfReader(pdf_file_name)\n",
    "    number_of_pages = len(reader.pages)\n",
    "    pages_with_keyword = []\n",
    "    for page_number in range(number_of_pages):\n",
    "        current_page = reader.pages[page_number]\n",
    "        if keyword in current_page.extract_text():\n",
    "            print(\"found \"+ keyword+ \" in page \"+ str(page_number))\n",
    "            pages_with_keyword.append(current_page)\n",
    "\n",
    "    if len(pages_with_keyword)>0:\n",
    "        output_pdf = PdfWriter()\n",
    "        for page in pages_with_keyword:\n",
    "            output_pdf.add_page(page)\n",
    "\n",
    "        output_path = \"output_with_keyword\" + str(uuid.uuid4())+\".pdf\"\n",
    "        with open(output_path, \"wb\") as output_file:\n",
    "            output_pdf.write(output_file)\n",
    "        print(\"Extracted pages with keyword saved as\", output_path)\n",
    "    else:\n",
    "        print(\"No page with keyword \"+ keyword+ \"found.\")\n",
    "except:\n",
    "    print(\"Could not read/write the file name entered. Make sure to add the file type. For example: XYZ.pdf\")\n",
    "    \n",
    "\n",
    "\n",
    "\n",
    "\n"
   ]
  },
  {
   "cell_type": "code",
   "execution_count": null,
   "id": "bcef92c1",
   "metadata": {},
   "outputs": [],
   "source": []
  }
 ],
 "metadata": {
  "kernelspec": {
   "display_name": "Python 3 (ipykernel)",
   "language": "python",
   "name": "python3"
  },
  "language_info": {
   "codemirror_mode": {
    "name": "ipython",
    "version": 3
   },
   "file_extension": ".py",
   "mimetype": "text/x-python",
   "name": "python",
   "nbconvert_exporter": "python",
   "pygments_lexer": "ipython3",
   "version": "3.7.11"
  }
 },
 "nbformat": 4,
 "nbformat_minor": 5
}
